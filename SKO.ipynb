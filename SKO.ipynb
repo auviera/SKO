{
  "nbformat": 4,
  "nbformat_minor": 0,
  "metadata": {
    "colab": {
      "name": "SKO",
      "provenance": [],
      "collapsed_sections": [],
      "authorship_tag": "ABX9TyMvBEB0oEIiq2hAd+e77y7+",
      "include_colab_link": true
    },
    "kernelspec": {
      "name": "python3",
      "display_name": "Python 3"
    }
  },
  "cells": [
    {
      "cell_type": "markdown",
      "metadata": {
        "id": "view-in-github",
        "colab_type": "text"
      },
      "source": [
        "<a href=\"https://colab.research.google.com/github/auviera/SKO/blob/main/SKO.ipynb\" target=\"_parent\"><img src=\"https://colab.research.google.com/assets/colab-badge.svg\" alt=\"Open In Colab\"/></a>"
      ]
    },
    {
      "cell_type": "code",
      "metadata": {
        "id": "_QHHtcPLaw3C"
      },
      "source": [
        "import numpy as np\r\n",
        "import matplotlib.pyplot as plt\r\n",
        "import math\r\n",
        "\r\n",
        "dmin = 0\r\n",
        "dmax = 200\r\n",
        "N = 200\r\n",
        "l=np.random.randint(dmin,dmax,N)"
      ],
      "execution_count": null,
      "outputs": []
    },
    {
      "cell_type": "code",
      "metadata": {
        "id": "0o96CUTJokg3"
      },
      "source": [
        "#Link Power Budget\r\n",
        "\r\n",
        "def lpb (af,asp,ac,nsp,l,ms):\r\n",
        "  #af = redaman fiber (dB)\r\n",
        "  #asp = redaman splice (dB)\r\n",
        "  #ac = redaman konektor (dB)\r\n",
        "  #nsp = jumlah splice\r\n",
        "  # l = jarak (km)\r\n",
        "  # ms = margin system\r\n",
        "\r\n",
        "  lpb_result = 2*ac + nsp*asp + l*af + ms\r\n",
        "  return lpb_result"
      ],
      "execution_count": null,
      "outputs": []
    },
    {
      "cell_type": "code",
      "metadata": {
        "id": "g_JagzKIbd6F",
        "colab": {
          "base_uri": "https://localhost:8080/"
        },
        "outputId": "25b39529-244e-4309-fdf2-943ab54c47a3"
      },
      "source": [
        "hasil = lpb(0.4,0.5,0.5,3,13.6,6)\r\n",
        "print (round(hasil,2),\"dB\")"
      ],
      "execution_count": null,
      "outputs": [
        {
          "output_type": "stream",
          "text": [
            "13.94 dB\n"
          ],
          "name": "stdout"
        }
      ]
    },
    {
      "cell_type": "code",
      "metadata": {
        "id": "SKFhsIU_hMHg"
      },
      "source": [
        "hasil_grafik = lpb(0.4,0.5,0.5,3,l,6)"
      ],
      "execution_count": null,
      "outputs": []
    },
    {
      "cell_type": "code",
      "metadata": {
        "id": "RYfM0_N3b7tB"
      },
      "source": [
        "#Daya terima\r\n",
        "\r\n",
        "def prx(ptx,lpb_result):\r\n",
        "  #ptx = daya pemancar\r\n",
        "  prx_result = ptx - lpb_result\r\n",
        "  return prx_result\r\n",
        "\r\n",
        "def sens(l,val):\r\n",
        "  sens_result = 0 - val *(l/l)\r\n",
        "  return sens_result"
      ],
      "execution_count": null,
      "outputs": []
    },
    {
      "cell_type": "code",
      "metadata": {
        "colab": {
          "base_uri": "https://localhost:8080/"
        },
        "id": "ThwEpLB0kXA1",
        "outputId": "df3d9859-6163-48f7-b801-1675da8d21fe"
      },
      "source": [
        "power_receiver = prx(3,hasil)\r\n",
        "print (round(power_receiver,2),\"dBm\")"
      ],
      "execution_count": null,
      "outputs": [
        {
          "output_type": "stream",
          "text": [
            "-10.94 dBm\n"
          ],
          "name": "stdout"
        }
      ]
    },
    {
      "cell_type": "code",
      "metadata": {
        "id": "iDm_bXoXcQhQ"
      },
      "source": [
        "daya_terima = prx(3,hasil_grafik)\r\n",
        "sensitivitas = sens(l,28)"
      ],
      "execution_count": null,
      "outputs": []
    },
    {
      "cell_type": "code",
      "metadata": {
        "id": "KpJha_0gcfM-"
      },
      "source": [
        "l_sort=l[np.argsort(l)]\r\n",
        "daya_terima_sort=daya_terima[np.argsort(l)]\r\n",
        "sensitivitas_sort=sensitivitas[np.argsort(l)]"
      ],
      "execution_count": null,
      "outputs": []
    },
    {
      "cell_type": "code",
      "metadata": {
        "colab": {
          "base_uri": "https://localhost:8080/",
          "height": 295
        },
        "id": "BEqcbhv5r-yV",
        "outputId": "ded49d75-79b6-4cad-8809-37f17d8e356f"
      },
      "source": [
        "plt.figure()\r\n",
        "plt.plot(l_sort,daya_terima_sort, label=\"Received Power (dBm)\")\r\n",
        "plt.plot(l_sort,sensitivitas_sort, label=\"Sensitivity (dBm)\")\r\n",
        "plt.title('Link Power Budget Curve')\r\n",
        "plt.xlabel('Link length (km)')\r\n",
        "plt.ylabel('Received Power (dBm)')\r\n",
        "plt.legend()\r\n",
        "plt.show()"
      ],
      "execution_count": null,
      "outputs": [
        {
          "output_type": "display_data",
          "data": {
            "image/png": "[encoded data removed]",
            "text/plain": [
              "<Figure size 432x288 with 1 Axes>"
            ]
          },
          "metadata": {
            "tags": [],
            "needs_background": "light"
          }
        }
      ]
    },
    {
      "cell_type": "code",
      "metadata": {
        "id": "r5bIWPnfp0hN"
      },
      "source": [
        "#nilai NA\r\n",
        "#n1 = indeks bias core\r\n",
        "#n2 = indeks bias cladding\r\n",
        "\r\n",
        "def num(n1,n2):\r\n",
        "  na = math.sqrt((n1*n1)-(n2*n2))\r\n",
        "  return na"
      ],
      "execution_count": null,
      "outputs": []
    },
    {
      "cell_type": "code",
      "metadata": {
        "colab": {
          "base_uri": "https://localhost:8080/"
        },
        "id": "oQDIyzShqPNj",
        "outputId": "f30d1685-3f51-4773-e5d9-a7047710b7f0"
      },
      "source": [
        "numerical_aparture = num(1.4562,1.4500)\r\n",
        "n_a = round(numerical_aparture,2)\r\n",
        "print(n_a)"
      ],
      "execution_count": null,
      "outputs": [
        {
          "output_type": "stream",
          "text": [
            "0.13\n"
          ],
          "name": "stdout"
        }
      ]
    },
    {
      "cell_type": "code",
      "metadata": {
        "id": "ViXgkIFMq_LS"
      },
      "source": [
        "#nilai V\r\n",
        "#lamb = lambda operasi (m)\r\n",
        "#a = jari-jari (m)\r\n",
        "#na =numerical aparture\r\n",
        "\r\n",
        "def mode(lamb,a,na):\r\n",
        "  lamb_m = lamb *  0.000000001\r\n",
        "  a_m = a * 0.000001\r\n",
        "  v_value = ((2*3.14)/lamb_m)*a_m*na\r\n",
        "  return round(v_value,3)"
      ],
      "execution_count": null,
      "outputs": []
    },
    {
      "cell_type": "code",
      "metadata": {
        "colab": {
          "base_uri": "https://localhost:8080/"
        },
        "id": "QRyNLVFZskdn",
        "outputId": "6ffbb672-2f7a-446a-caf7-7d811ac887c3"
      },
      "source": [
        "V = mode(1550,4.5,n_a)\r\n",
        "print(V)"
      ],
      "execution_count": null,
      "outputs": [
        {
          "output_type": "stream",
          "text": [
            "2.37\n"
          ],
          "name": "stdout"
        }
      ]
    },
    {
      "cell_type": "code",
      "metadata": {
        "id": "41eOIxPW9R6k"
      },
      "source": [
        "#twg\r\n",
        "#L = panjang kabel\r\n",
        "\r\n",
        "def twg(l,n1,n2,v):\r\n",
        "  l_m = l * 1000\r\n",
        "  twg_value = (l/300000000)*(n1-n2)*(1-(3.14/v))\r\n",
        "  return twg_value"
      ],
      "execution_count": null,
      "outputs": []
    },
    {
      "cell_type": "code",
      "metadata": {
        "colab": {
          "base_uri": "https://localhost:8080/"
        },
        "id": "PS2bvhzZ_qqK",
        "outputId": "16d4fab9-f865-4e3e-fa54-534a2d9092e7"
      },
      "source": [
        "Twg = twg(13.6,1.4562,1.4500,2.37)\r\n",
        "print(Twg)"
      ],
      "execution_count": null,
      "outputs": [
        {
          "output_type": "stream",
          "text": [
            "-9.131701828410664e-11\n"
          ],
          "name": "stdout"
        }
      ]
    },
    {
      "cell_type": "code",
      "metadata": {
        "id": "bkWFojFnoZp4"
      },
      "source": [
        "Twg_grafik = twg(l,1.4562,1.4500,2.37)"
      ],
      "execution_count": null,
      "outputs": []
    },
    {
      "cell_type": "code",
      "metadata": {
        "id": "t2kc8V2F_3Rc"
      },
      "source": [
        "#tmat\r\n",
        "#dmat = dispersi material\r\n",
        "\r\n",
        "def tmat(dmat,l,lamb):\r\n",
        "  dmat_m = dmat * 0.000000000001\r\n",
        "  tmat_value = dmat_m*l*lamb\r\n",
        "  return tmat_value"
      ],
      "execution_count": null,
      "outputs": []
    },
    {
      "cell_type": "code",
      "metadata": {
        "colab": {
          "base_uri": "https://localhost:8080/"
        },
        "id": "hbf9I9g1BXdi",
        "outputId": "10592c6c-1232-448d-c53d-fa18da5ece80"
      },
      "source": [
        "Tmat = tmat(4,13.6,0.1)\r\n",
        "print(Tmat)"
      ],
      "execution_count": null,
      "outputs": [
        {
          "output_type": "stream",
          "text": [
            "5.4399999999999994e-12\n"
          ],
          "name": "stdout"
        }
      ]
    },
    {
      "cell_type": "code",
      "metadata": {
        "id": "9KerobuopFFi"
      },
      "source": [
        "Tmat_grafik = tmat(4,l,0.1)"
      ],
      "execution_count": null,
      "outputs": []
    },
    {
      "cell_type": "code",
      "metadata": {
        "id": "LZE0buuICqJk"
      },
      "source": [
        "#tsys\r\n",
        "\r\n",
        "def tsys(ttx,tmat,twg,trx):\r\n",
        "  ttx_m = ttx * 0.000000000001 \r\n",
        "  trx_m = trx * 0.000000000001 \r\n",
        "  tsys_value = np.sqrt(((ttx_m*ttx_m)+(tmat*tmat)+(twg*twg)+(trx_m*trx_m)))\r\n",
        "  return tsys_value"
      ],
      "execution_count": null,
      "outputs": []
    },
    {
      "cell_type": "code",
      "metadata": {
        "colab": {
          "base_uri": "https://localhost:8080/"
        },
        "id": "oETL-SvLDDfh",
        "outputId": "3360f6e3-c407-4309-a3c4-3856e0f261e9"
      },
      "source": [
        "Tsys = tsys(35,Tmat,Twg,15)\r\n",
        "print(Tsys)"
      ],
      "execution_count": null,
      "outputs": [
        {
          "output_type": "stream",
          "text": [
            "9.90877965659741e-11\n"
          ],
          "name": "stdout"
        }
      ]
    },
    {
      "cell_type": "code",
      "metadata": {
        "id": "dRyPYGggYDbW"
      },
      "source": [
        "Tsys_grafik = tsys(35,Tmat_grafik,Twg_grafik,15)"
      ],
      "execution_count": null,
      "outputs": []
    },
    {
      "cell_type": "code",
      "metadata": {
        "id": "8QxGSACgGh36"
      },
      "source": [
        "#bit rate system\r\n",
        "\r\n",
        "def br(tsys):\r\n",
        "  bitrate = (1/tsys)*0.000000001\r\n",
        "  return bitrate"
      ],
      "execution_count": null,
      "outputs": []
    },
    {
      "cell_type": "code",
      "metadata": {
        "colab": {
          "base_uri": "https://localhost:8080/"
        },
        "id": "hOsTQRfzGr0t",
        "outputId": "2f0cb041-2995-4132-9de9-607b41e6bc0c"
      },
      "source": [
        "bit_rate = br(Tsys)\r\n",
        "print(round(bit_rate,1),\"Gbps\")"
      ],
      "execution_count": null,
      "outputs": [
        {
          "output_type": "stream",
          "text": [
            "10.1 Gbps\n"
          ],
          "name": "stdout"
        }
      ]
    },
    {
      "cell_type": "code",
      "metadata": {
        "id": "rbwyRTnPPiy7"
      },
      "source": [
        "def rs(bs):\r\n",
        "  rts = (1/bs)\r\n",
        "  return rts"
      ],
      "execution_count": null,
      "outputs": []
    },
    {
      "cell_type": "code",
      "metadata": {
        "colab": {
          "base_uri": "https://localhost:8080/"
        },
        "id": "gqwPSidfPrUJ",
        "outputId": "fbe00183-7260-42e3-f8de-d2499a5753e0"
      },
      "source": [
        "#rise time system\r\n",
        "\r\n",
        "rs_sys = rs(bit_rate)\r\n",
        "print(round(rs_sys,3),\"ns\")"
      ],
      "execution_count": null,
      "outputs": [
        {
          "output_type": "stream",
          "text": [
            "0.099 ns\n"
          ],
          "name": "stdout"
        }
      ]
    },
    {
      "cell_type": "code",
      "metadata": {
        "id": "frxmsYa_AzgT"
      },
      "source": [
        "def pb(br):\r\n",
        "  periode = 1/br\r\n",
        "  return periode"
      ],
      "execution_count": null,
      "outputs": []
    },
    {
      "cell_type": "code",
      "metadata": {
        "colab": {
          "base_uri": "https://localhost:8080/"
        },
        "id": "WuXaxW8jBAXe",
        "outputId": "d87f0ce8-1509-4554-9135-7ac0984c1b5a"
      },
      "source": [
        "T = pb(2.5e9)\r\n",
        "print(round((T*1000000000),3),\"ns\")"
      ],
      "execution_count": null,
      "outputs": [
        {
          "output_type": "stream",
          "text": [
            "0.4 ns\n"
          ],
          "name": "stdout"
        }
      ]
    },
    {
      "cell_type": "code",
      "metadata": {
        "id": "1i3QXT4cMZ5E"
      },
      "source": [
        "#nrz\r\n",
        "\r\n",
        "def nrz(a):\r\n",
        "  Nrz = (0.7*a) \r\n",
        "  return Nrz\r\n",
        "\r\n",
        "#rz\r\n",
        "\r\n",
        "def rz(b):\r\n",
        "  Rz = (0.35*b)\r\n",
        "  return Rz"
      ],
      "execution_count": null,
      "outputs": []
    },
    {
      "cell_type": "code",
      "metadata": {
        "colab": {
          "base_uri": "https://localhost:8080/"
        },
        "id": "X8CO4wpxNqHb",
        "outputId": "b93808f3-61fe-4de2-8024-fd95e5df24b0"
      },
      "source": [
        "NRZ = nrz(T)\r\n",
        "RZ = rz(T)\r\n",
        "print(round(NRZ* 1000000000,3),\"ns\")\r\n",
        "print(round(RZ* 1000000000,3),\"ns\")"
      ],
      "execution_count": null,
      "outputs": [
        {
          "output_type": "stream",
          "text": [
            "0.28 ns\n",
            "0.14 ns\n"
          ],
          "name": "stdout"
        }
      ]
    },
    {
      "cell_type": "code",
      "metadata": {
        "id": "XBD1U9P6S3Fz"
      },
      "source": [
        "def g(l,val):\r\n",
        "  gr = val * l/l\r\n",
        "  return gr"
      ],
      "execution_count": null,
      "outputs": []
    },
    {
      "cell_type": "code",
      "metadata": {
        "id": "fGimTRcma8uL"
      },
      "source": [
        "nrz_grafik = g(l,NRZ)\r\n",
        "rz_grafik = g(l,RZ)"
      ],
      "execution_count": null,
      "outputs": []
    },
    {
      "cell_type": "code",
      "metadata": {
        "id": "3mYThkY2KASU"
      },
      "source": [
        "l_sort=l[np.argsort(l)]\r\n",
        "nrz_sort=nrz_grafik[np.argsort(l)]\r\n",
        "rz_sort=rz_grafik[np.argsort(l)]\r\n",
        "tsys_sort=Tsys_grafik[np.argsort(l)]"
      ],
      "execution_count": null,
      "outputs": []
    },
    {
      "cell_type": "code",
      "metadata": {
        "colab": {
          "base_uri": "https://localhost:8080/",
          "height": 295
        },
        "id": "1DCMgEPjKVd_",
        "outputId": "52400fe3-bb27-4e80-933c-c33b0e949767"
      },
      "source": [
        "plt.figure()\r\n",
        "plt.plot(l_sort,tsys_sort, label=\"System Dispersion\")\r\n",
        "plt.plot(l_sort,nrz_sort, label=\"NRZ - 2.5 Gbps\")\r\n",
        "plt.plot(l_sort,rz_sort, label=\"RZ - 2.5 Gbps\")\r\n",
        "plt.title('Rise Time Budget Curve')\r\n",
        "plt.xlabel('Link length (km)')\r\n",
        "plt.ylabel('System Dispersion (s)')\r\n",
        "plt.legend()\r\n",
        "plt.show()"
      ],
      "execution_count": null,
      "outputs": [
        {
          "output_type": "display_data",
          "data": {
            "image/png": "[encoded data removed]",
            "text/plain": [
              "<Figure size 432x288 with 1 Axes>"
            ]
          },
          "metadata": {
            "tags": [],
            "needs_background": "light"
          }
        }
      ]
    }
  ]
}